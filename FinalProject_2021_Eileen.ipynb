{
  "nbformat": 4,
  "nbformat_minor": 0,
  "metadata": {
    "colab": {
      "name": "FinalProject_2021_Eileen.ipynb",
      "provenance": [],
      "collapsed_sections": [],
      "toc_visible": true,
      "authorship_tag": "ABX9TyNqyRbkwmkj7oueGXTrPXPq",
      "include_colab_link": true
    },
    "kernelspec": {
      "name": "python3",
      "display_name": "Python 3"
    }
  },
  "cells": [
    {
      "cell_type": "markdown",
      "metadata": {
        "id": "view-in-github",
        "colab_type": "text"
      },
      "source": [
        "<a href=\"https://colab.research.google.com/github/galloeileen/Final_Project_2021_Python/blob/main/FinalProject_2021_Eileen.ipynb\" target=\"_parent\"><img src=\"https://colab.research.google.com/assets/colab-badge.svg\" alt=\"Open In Colab\"/></a>"
      ]
    },
    {
      "cell_type": "code",
      "metadata": {
        "id": "zk0xClaqCHqO",
        "colab": {
          "base_uri": "https://localhost:8080/"
        },
        "outputId": "d7bdd0c7-4b77-4496-cad7-29fb1e0d7ffd"
      },
      "source": [
        "#Import Pandas\r\n",
        "import pandas as pd\r\n",
        "import numpy as np\r\n",
        "\r\n",
        "print('Import sucessful')"
      ],
      "execution_count": 1,
      "outputs": [
        {
          "output_type": "stream",
          "text": [
            "Import sucessful\n"
          ],
          "name": "stdout"
        }
      ]
    },
    {
      "cell_type": "code",
      "metadata": {
        "colab": {
          "base_uri": "https://localhost:8080/"
        },
        "id": "WCuIT27XnzRt",
        "outputId": "459ab1dc-0902-4b48-c01a-97089423815a"
      },
      "source": [
        "#Load csv data\r\n",
        "lapd_calls = pd.read_csv('https://raw.githubusercontent.com/galloeileen/Final_Project_2021_Python/main/LAPD_Calls_for_Service_2020.csv')\r\n",
        "\r\n",
        "\r\n",
        "\r\n",
        "print('data loaded successfully')"
      ],
      "execution_count": 2,
      "outputs": [
        {
          "output_type": "stream",
          "text": [
            "data loaded successfully\n"
          ],
          "name": "stdout"
        }
      ]
    },
    {
      "cell_type": "code",
      "metadata": {
        "id": "17R2wZCGXk0k"
      },
      "source": [
        "#Make a copy of the csv - OPTIONAL\r\n",
        "crime_data = lapd_calls.copy()"
      ],
      "execution_count": 3,
      "outputs": []
    },
    {
      "cell_type": "code",
      "metadata": {
        "id": "_p4yKajsqjsO",
        "colab": {
          "base_uri": "https://localhost:8080/",
          "height": 198
        },
        "outputId": "52d9e1be-34ee-4a49-a8a8-4fbfd66296de"
      },
      "source": [
        "#Drop unnecessary columns\r\n",
        "crime_data.drop(columns=['Rpt_Dist', 'Incident_Number', 'Dispatch_Time'], inplace=True)\r\n",
        "\r\n",
        "#Confirm dropped columns\r\n",
        "crime_data.head()\r\n"
      ],
      "execution_count": 4,
      "outputs": [
        {
          "output_type": "execute_result",
          "data": {
            "text/html": [
              "<div>\n",
              "<style scoped>\n",
              "    .dataframe tbody tr th:only-of-type {\n",
              "        vertical-align: middle;\n",
              "    }\n",
              "\n",
              "    .dataframe tbody tr th {\n",
              "        vertical-align: top;\n",
              "    }\n",
              "\n",
              "    .dataframe thead th {\n",
              "        text-align: right;\n",
              "    }\n",
              "</style>\n",
              "<table border=\"1\" class=\"dataframe\">\n",
              "  <thead>\n",
              "    <tr style=\"text-align: right;\">\n",
              "      <th></th>\n",
              "      <th>Area_Occ</th>\n",
              "      <th>Dispatch_Date</th>\n",
              "      <th>Call_Type_Code</th>\n",
              "      <th>Call_Type_Text</th>\n",
              "    </tr>\n",
              "  </thead>\n",
              "  <tbody>\n",
              "    <tr>\n",
              "      <th>0</th>\n",
              "      <td>Van Nuys</td>\n",
              "      <td>3/24/2020 0:00</td>\n",
              "      <td>6</td>\n",
              "      <td>CODE 6</td>\n",
              "    </tr>\n",
              "    <tr>\n",
              "      <th>1</th>\n",
              "      <td>Central</td>\n",
              "      <td>3/28/2020 0:00</td>\n",
              "      <td>242DS</td>\n",
              "      <td>DOM VIOL SUSP</td>\n",
              "    </tr>\n",
              "    <tr>\n",
              "      <th>2</th>\n",
              "      <td>Outside</td>\n",
              "      <td>3/25/2020 0:00</td>\n",
              "      <td>6</td>\n",
              "      <td>CODE 6</td>\n",
              "    </tr>\n",
              "    <tr>\n",
              "      <th>3</th>\n",
              "      <td>Outside</td>\n",
              "      <td>3/25/2020 0:00</td>\n",
              "      <td>6</td>\n",
              "      <td>CODE 6</td>\n",
              "    </tr>\n",
              "    <tr>\n",
              "      <th>4</th>\n",
              "      <td>Hollywood</td>\n",
              "      <td>3/23/2020 0:00</td>\n",
              "      <td>9212</td>\n",
              "      <td>TRESPASS SUSP</td>\n",
              "    </tr>\n",
              "  </tbody>\n",
              "</table>\n",
              "</div>"
            ],
            "text/plain": [
              "    Area_Occ   Dispatch_Date Call_Type_Code Call_Type_Text\n",
              "0   Van Nuys  3/24/2020 0:00              6         CODE 6\n",
              "1    Central  3/28/2020 0:00          242DS  DOM VIOL SUSP\n",
              "2    Outside  3/25/2020 0:00              6         CODE 6\n",
              "3    Outside  3/25/2020 0:00              6         CODE 6\n",
              "4  Hollywood  3/23/2020 0:00           9212  TRESPASS SUSP"
            ]
          },
          "metadata": {
            "tags": []
          },
          "execution_count": 4
        }
      ]
    },
    {
      "cell_type": "code",
      "metadata": {
        "id": "Bkw-zm8fz8kP",
        "colab": {
          "base_uri": "https://localhost:8080/",
          "height": 198
        },
        "outputId": "af689092-b598-4799-a94f-2231129b388e"
      },
      "source": [
        "#Rename colums\r\n",
        "crime_data.rename(columns={'Area_Occ': 'Los Angeles Area', 'Call_Type_Code': 'Call-type', 'Call_Type_Text': 'Call-Code Description', 'Dispatch_Date': 'Date of Incident'}, inplace=True)\r\n",
        "crime_data.head()"
      ],
      "execution_count": 5,
      "outputs": [
        {
          "output_type": "execute_result",
          "data": {
            "text/html": [
              "<div>\n",
              "<style scoped>\n",
              "    .dataframe tbody tr th:only-of-type {\n",
              "        vertical-align: middle;\n",
              "    }\n",
              "\n",
              "    .dataframe tbody tr th {\n",
              "        vertical-align: top;\n",
              "    }\n",
              "\n",
              "    .dataframe thead th {\n",
              "        text-align: right;\n",
              "    }\n",
              "</style>\n",
              "<table border=\"1\" class=\"dataframe\">\n",
              "  <thead>\n",
              "    <tr style=\"text-align: right;\">\n",
              "      <th></th>\n",
              "      <th>Los Angeles Area</th>\n",
              "      <th>Date of Incident</th>\n",
              "      <th>Call-type</th>\n",
              "      <th>Call-Code Description</th>\n",
              "    </tr>\n",
              "  </thead>\n",
              "  <tbody>\n",
              "    <tr>\n",
              "      <th>0</th>\n",
              "      <td>Van Nuys</td>\n",
              "      <td>3/24/2020 0:00</td>\n",
              "      <td>6</td>\n",
              "      <td>CODE 6</td>\n",
              "    </tr>\n",
              "    <tr>\n",
              "      <th>1</th>\n",
              "      <td>Central</td>\n",
              "      <td>3/28/2020 0:00</td>\n",
              "      <td>242DS</td>\n",
              "      <td>DOM VIOL SUSP</td>\n",
              "    </tr>\n",
              "    <tr>\n",
              "      <th>2</th>\n",
              "      <td>Outside</td>\n",
              "      <td>3/25/2020 0:00</td>\n",
              "      <td>6</td>\n",
              "      <td>CODE 6</td>\n",
              "    </tr>\n",
              "    <tr>\n",
              "      <th>3</th>\n",
              "      <td>Outside</td>\n",
              "      <td>3/25/2020 0:00</td>\n",
              "      <td>6</td>\n",
              "      <td>CODE 6</td>\n",
              "    </tr>\n",
              "    <tr>\n",
              "      <th>4</th>\n",
              "      <td>Hollywood</td>\n",
              "      <td>3/23/2020 0:00</td>\n",
              "      <td>9212</td>\n",
              "      <td>TRESPASS SUSP</td>\n",
              "    </tr>\n",
              "  </tbody>\n",
              "</table>\n",
              "</div>"
            ],
            "text/plain": [
              "  Los Angeles Area Date of Incident Call-type Call-Code Description\n",
              "0         Van Nuys   3/24/2020 0:00         6                CODE 6\n",
              "1          Central   3/28/2020 0:00     242DS         DOM VIOL SUSP\n",
              "2          Outside   3/25/2020 0:00         6                CODE 6\n",
              "3          Outside   3/25/2020 0:00         6                CODE 6\n",
              "4        Hollywood   3/23/2020 0:00      9212         TRESPASS SUSP"
            ]
          },
          "metadata": {
            "tags": []
          },
          "execution_count": 5
        }
      ]
    },
    {
      "cell_type": "code",
      "metadata": {
        "id": "G9TeAwV5dCY_"
      },
      "source": [
        "#Delete all of the CODE 6 from CSV\r\n",
        "code_description = crime_data[~crime_data['Call-Code Description'].str.contains('CODE 6')]\r\n",
        "\r\n",
        "code_description"
      ],
      "execution_count": null,
      "outputs": []
    },
    {
      "cell_type": "code",
      "metadata": {
        "colab": {
          "base_uri": "https://localhost:8080/",
          "height": 407
        },
        "id": "rPR3eNxN_MhZ",
        "outputId": "a01e95ea-c8f5-42e9-ea9b-924bf54def19"
      },
      "source": [
        "code_description = crime_data[~crime_data['Los Angeles Area'].str.contains('Outside')]\r\n",
        "code_description"
      ],
      "execution_count": 15,
      "outputs": [
        {
          "output_type": "execute_result",
          "data": {
            "text/html": [
              "<div>\n",
              "<style scoped>\n",
              "    .dataframe tbody tr th:only-of-type {\n",
              "        vertical-align: middle;\n",
              "    }\n",
              "\n",
              "    .dataframe tbody tr th {\n",
              "        vertical-align: top;\n",
              "    }\n",
              "\n",
              "    .dataframe thead th {\n",
              "        text-align: right;\n",
              "    }\n",
              "</style>\n",
              "<table border=\"1\" class=\"dataframe\">\n",
              "  <thead>\n",
              "    <tr style=\"text-align: right;\">\n",
              "      <th></th>\n",
              "      <th>Los Angeles Area</th>\n",
              "      <th>Date of Incident</th>\n",
              "      <th>Call-type</th>\n",
              "      <th>Call-Code Description</th>\n",
              "    </tr>\n",
              "  </thead>\n",
              "  <tbody>\n",
              "    <tr>\n",
              "      <th>0</th>\n",
              "      <td>Van Nuys</td>\n",
              "      <td>3/24/2020 0:00</td>\n",
              "      <td>6</td>\n",
              "      <td>CODE 6</td>\n",
              "    </tr>\n",
              "    <tr>\n",
              "      <th>1</th>\n",
              "      <td>Central</td>\n",
              "      <td>3/28/2020 0:00</td>\n",
              "      <td>242DS</td>\n",
              "      <td>DOM VIOL SUSP</td>\n",
              "    </tr>\n",
              "    <tr>\n",
              "      <th>4</th>\n",
              "      <td>Hollywood</td>\n",
              "      <td>3/23/2020 0:00</td>\n",
              "      <td>9212</td>\n",
              "      <td>TRESPASS SUSP</td>\n",
              "    </tr>\n",
              "    <tr>\n",
              "      <th>6</th>\n",
              "      <td>West LA</td>\n",
              "      <td>3/28/2020 0:00</td>\n",
              "      <td>507A</td>\n",
              "      <td>AUTO REPAIR</td>\n",
              "    </tr>\n",
              "    <tr>\n",
              "      <th>9</th>\n",
              "      <td>Wilshire</td>\n",
              "      <td>3/28/2020 0:00</td>\n",
              "      <td>415G</td>\n",
              "      <td>GRP</td>\n",
              "    </tr>\n",
              "    <tr>\n",
              "      <th>...</th>\n",
              "      <td>...</td>\n",
              "      <td>...</td>\n",
              "      <td>...</td>\n",
              "      <td>...</td>\n",
              "    </tr>\n",
              "    <tr>\n",
              "      <th>990</th>\n",
              "      <td>Harbor</td>\n",
              "      <td>3/22/2020 0:00</td>\n",
              "      <td>415F</td>\n",
              "      <td>FIGHT</td>\n",
              "    </tr>\n",
              "    <tr>\n",
              "      <th>991</th>\n",
              "      <td>Topanga</td>\n",
              "      <td>3/28/2020 0:00</td>\n",
              "      <td>9282</td>\n",
              "      <td>ADULT</td>\n",
              "    </tr>\n",
              "    <tr>\n",
              "      <th>993</th>\n",
              "      <td>Van Nuys</td>\n",
              "      <td>3/22/2020 0:00</td>\n",
              "      <td>507P</td>\n",
              "      <td>PARTY</td>\n",
              "    </tr>\n",
              "    <tr>\n",
              "      <th>995</th>\n",
              "      <td>Foothill</td>\n",
              "      <td>3/25/2020 0:00</td>\n",
              "      <td>6</td>\n",
              "      <td>CODE 6</td>\n",
              "    </tr>\n",
              "    <tr>\n",
              "      <th>996</th>\n",
              "      <td>77th Street</td>\n",
              "      <td>3/24/2020 0:00</td>\n",
              "      <td>242PS</td>\n",
              "      <td>POSS SUSP</td>\n",
              "    </tr>\n",
              "  </tbody>\n",
              "</table>\n",
              "<p>536 rows × 4 columns</p>\n",
              "</div>"
            ],
            "text/plain": [
              "    Los Angeles Area Date of Incident Call-type Call-Code Description\n",
              "0           Van Nuys   3/24/2020 0:00         6                CODE 6\n",
              "1            Central   3/28/2020 0:00     242DS         DOM VIOL SUSP\n",
              "4          Hollywood   3/23/2020 0:00      9212         TRESPASS SUSP\n",
              "6            West LA   3/28/2020 0:00      507A           AUTO REPAIR\n",
              "9           Wilshire   3/28/2020 0:00      415G                   GRP\n",
              "..               ...              ...       ...                   ...\n",
              "990           Harbor   3/22/2020 0:00      415F                 FIGHT\n",
              "991          Topanga   3/28/2020 0:00      9282                 ADULT\n",
              "993         Van Nuys   3/22/2020 0:00      507P                 PARTY\n",
              "995         Foothill   3/25/2020 0:00         6                CODE 6\n",
              "996      77th Street   3/24/2020 0:00     242PS             POSS SUSP\n",
              "\n",
              "[536 rows x 4 columns]"
            ]
          },
          "metadata": {
            "tags": []
          },
          "execution_count": 15
        }
      ]
    },
    {
      "cell_type": "code",
      "metadata": {
        "id": "mE7Du9RJYp57"
      },
      "source": [
        "# Group columns by Los Angeles Area + size\r\n",
        "code_description.groupby(by=['Los Angeles Area', 'Call-Code Description']).size()\r\n",
        "                                                                           \r\n",
        "grouped_df = code_description.groupby('Los Angeles Area')\r\n",
        "for key, item in grouped_df:\r\n",
        "    print(grouped_df.get_group(key), \"\\n\\n\")\r\n"
      ],
      "execution_count": null,
      "outputs": []
    },
    {
      "cell_type": "code",
      "metadata": {
        "id": "lAbT5l-EceMH",
        "colab": {
          "base_uri": "https://localhost:8080/",
          "height": 336
        },
        "outputId": "726196f5-af77-4b5c-eedb-6ca229ee65d7"
      },
      "source": [
        "#Create Bar chart - Los Angeles Area call volume \r\n",
        "\r\n",
        "\r\n",
        "\r\n",
        "code_description['Los Angeles Area'].value_counts().plot(kind='bar')\r\n",
        "\r\n",
        "# plt.xlabel('Los Angeles Area')\r\n",
        "# plt.title('LAPD Calls for service')"
      ],
      "execution_count": 27,
      "outputs": [
        {
          "output_type": "execute_result",
          "data": {
            "text/plain": [
              "<matplotlib.axes._subplots.AxesSubplot at 0x7f139a64f518>"
            ]
          },
          "metadata": {
            "tags": []
          },
          "execution_count": 27
        },
        {
          "output_type": "display_data",
          "data": {
            "image/png": "[encoded data removed]",
            "text/plain": [
              "<Figure size 432x288 with 1 Axes>"
            ]
          },
          "metadata": {
            "tags": [],
            "needs_background": "light"
          }
        }
      ]
    }
  ]
}